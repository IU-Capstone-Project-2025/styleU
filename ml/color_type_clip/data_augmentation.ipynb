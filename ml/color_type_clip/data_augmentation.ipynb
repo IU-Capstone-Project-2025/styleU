{
 "cells": [
  {
   "cell_type": "code",
   "id": "65468be0",
   "metadata": {
    "ExecuteTime": {
     "end_time": "2025-06-20T10:58:12.759432Z",
     "start_time": "2025-06-20T10:58:07.875700Z"
    }
   },
   "source": [
    "import torchvision.transforms.functional as TF\n",
    "from PIL import Image\n",
    "import os\n",
    "import random"
   ],
   "outputs": [],
   "execution_count": 3
  },
  {
   "cell_type": "code",
   "id": "981eb831",
   "metadata": {
    "ExecuteTime": {
     "end_time": "2025-06-20T10:58:31.419176Z",
     "start_time": "2025-06-20T10:58:31.406259Z"
    }
   },
   "source": [
    "def augment_class(season):\n",
    "    src_dir = 'faces_cleaned_only/' + season + '/'\n",
    "    dst_dir = 'faces_cleaned_only_augmentated/' + season + '/'\n",
    "\n",
    "    os.makedirs(dst_dir, exist_ok=True)\n",
    "\n",
    "    for fname in os.listdir(src_dir):\n",
    "        img = Image.open(os.path.join(src_dir, fname)).convert('RGB')\n",
    "\n",
    "        for i in range(5): \n",
    "            aug = TF.rotate(img, random.randint(-20, 20))\n",
    "            aug = TF.hflip(aug) if random.random() > 0.5 else aug\n",
    "            aug = TF.adjust_brightness(aug, 1 + (random.random() - 0.5) * 0.4)\n",
    "\n",
    "            aug.save(os.path.join(dst_dir, f\"{fname[:-4]}_aug{i}.jpg\"))"
   ],
   "outputs": [],
   "execution_count": 4
  },
  {
   "cell_type": "code",
   "id": "40e4f3e6",
   "metadata": {
    "ExecuteTime": {
     "end_time": "2025-06-20T10:58:49.340698Z",
     "start_time": "2025-06-20T10:58:32.916690Z"
    }
   },
   "source": [
    "for season in ['autumn','spring','summer','winter']:\n",
    "    augment_class(season)\n",
    "    print('Augmented: ', season)"
   ],
   "outputs": [
    {
     "name": "stdout",
     "output_type": "stream",
     "text": [
      "Augmented:  autumn\n",
      "Augmented:  spring\n",
      "Augmented:  summer\n",
      "Augmented:  winter\n"
     ]
    }
   ],
   "execution_count": 5
  },
  {
   "metadata": {},
   "cell_type": "code",
   "outputs": [],
   "execution_count": null,
   "source": "",
   "id": "981dcd0d218e318e"
  }
 ],
 "metadata": {
  "kernelspec": {
   "display_name": "Python 3",
   "language": "python",
   "name": "python3"
  },
  "language_info": {
   "codemirror_mode": {
    "name": "ipython",
    "version": 3
   },
   "file_extension": ".py",
   "mimetype": "text/x-python",
   "name": "python",
   "nbconvert_exporter": "python",
   "pygments_lexer": "ipython3",
   "version": "3.12.6"
  }
 },
 "nbformat": 4,
 "nbformat_minor": 5
}
