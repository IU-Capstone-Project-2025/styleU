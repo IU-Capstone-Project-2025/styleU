{
 "cells": [
  {
   "cell_type": "code",
   "execution_count": 1,
   "id": "65468be0",
   "metadata": {},
   "outputs": [],
   "source": [
    "import torchvision.transforms.functional as TF\n",
    "from PIL import Image\n",
    "import os\n",
    "import random"
   ]
  },
  {
   "cell_type": "code",
   "execution_count": 4,
   "id": "981eb831",
   "metadata": {},
   "outputs": [],
   "source": [
    "def augment_class(season):\n",
    "    src_dir = 'clustered_by_color_type_manually_cleaned/' + season + '/'\n",
    "    dst_dir = src_dir\n",
    "\n",
    "    os.makedirs(dst_dir, exist_ok=True)\n",
    "\n",
    "    for fname in os.listdir(src_dir):\n",
    "        img = Image.open(os.path.join(src_dir, fname)).convert('RGB')\n",
    "\n",
    "        for i in range(5): \n",
    "            aug = TF.rotate(img, random.randint(-20, 20))\n",
    "            aug = TF.hflip(aug) if random.random() > 0.5 else aug\n",
    "            aug = TF.adjust_brightness(aug, 1 + (random.random() - 0.5) * 0.4)\n",
    "\n",
    "            aug.save(os.path.join(dst_dir, f\"{fname[:-4]}_aug{i}.jpg\"))"
   ]
  },
  {
   "cell_type": "code",
   "execution_count": 5,
   "id": "40e4f3e6",
   "metadata": {},
   "outputs": [
    {
     "name": "stdout",
     "output_type": "stream",
     "text": [
      "Augmented:  autumn\n",
      "Augmented:  spring\n",
      "Augmented:  summer\n",
      "Augmented:  winter\n"
     ]
    }
   ],
   "source": [
    "for season in ['autumn','spring','summer','winter']:\n",
    "    augment_class(season)\n",
    "    print('Augmented: ', season)"
   ]
  }
 ],
 "metadata": {
  "kernelspec": {
   "display_name": "Python 3",
   "language": "python",
   "name": "python3"
  },
  "language_info": {
   "codemirror_mode": {
    "name": "ipython",
    "version": 3
   },
   "file_extension": ".py",
   "mimetype": "text/x-python",
   "name": "python",
   "nbconvert_exporter": "python",
   "pygments_lexer": "ipython3",
   "version": "3.12.6"
  }
 },
 "nbformat": 4,
 "nbformat_minor": 5
}
